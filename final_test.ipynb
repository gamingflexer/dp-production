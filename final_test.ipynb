{
 "cells": [
  {
   "cell_type": "code",
   "execution_count": 1,
   "metadata": {},
   "outputs": [
    {
     "name": "stdout",
     "output_type": "stream",
     "text": [
      "Init Plugin\n",
      "Init Graph Optimizer\n",
      "Init Kernel\n"
     ]
    }
   ],
   "source": [
    "from transformers import AutoTokenizer, AutoModelForTokenClassification, pipeline\n",
    "\n",
    "tokenizer_bert_ner = AutoTokenizer.from_pretrained(\"dslim/bert-base-NER\")\n",
    "model_bert_ner = AutoModelForTokenClassification.from_pretrained(\"dslim/bert-base-NER\")"
   ]
  },
  {
   "cell_type": "code",
   "execution_count": 18,
   "metadata": {},
   "outputs": [],
   "source": [
    "def ner(text, model, tokenizer):\n",
    "    # create a pipleine to get the output\n",
    "    nlp_name = pipeline('ner', model=model, tokenizer=tokenizer)\n",
    "    ner_list = nlp_name(text)\n",
    "\n",
    "    # Person Name\n",
    "    this_name = []\n",
    "    all_names_list_tmp = []\n",
    "\n",
    "    for ner_dict in ner_list:\n",
    "        if ner_dict['entity'] == 'B-PER':\n",
    "            if len(this_name) == 0:\n",
    "                this_name.append(ner_dict['word'])\n",
    "            else:\n",
    "                all_names_list_tmp.append([this_name])\n",
    "                this_name = []\n",
    "                this_name.append(ner_dict['word'])\n",
    "        elif ner_dict['entity'] == 'I-PER':\n",
    "            this_name.append(ner_dict['word'])\n",
    "\n",
    "    all_names_list_tmp.append([this_name])\n",
    "\n",
    "    final_name_list = []\n",
    "    for name_list in all_names_list_tmp:\n",
    "        full_name = ' '.join(name_list[0]).replace(\n",
    "            ' ##', '').replace(' .', '.')\n",
    "        final_name_list.append([full_name])\n",
    "\n",
    "    if (len(final_name_list)) > 1:\n",
    "        final_name_list2 = str(final_name_list[0]) + str(final_name_list[1])\n",
    "        final_name_list2 = final_name_list2.replace(\"]\", \"\")\n",
    "        final_name_list2 = final_name_list2.replace(\"[\", \"\")\n",
    "        final_name_list2 = final_name_list2.replace(\"'\", \"\")\n",
    "        final_name_list2 = final_name_list2.replace(\"]\", \"\")\n",
    "    \n",
    "    final_name_list2= final_name_list2.replace(\"#\",\"\")\n",
    "\n",
    "    return final_name_list2"
   ]
  },
  {
   "cell_type": "code",
   "execution_count": 19,
   "metadata": {},
   "outputs": [
    {
     "name": "stdout",
     "output_type": "stream",
     "text": [
      "huggingface/tokenizers: The current process just got forked, after parallelism has already been used. Disabling parallelism to avoid deadlocks...\n",
      "To disable this warning, you can either:\n",
      "\t- Avoid using `tokenizers` before the fork if possible\n",
      "\t- Explicitly set the environment variable TOKENIZERS_PARALLELISM=(true | false)\n",
      "Ignored unknown kwarg option direction\n"
     ]
    },
    {
     "data": {
      "text/plain": [
       "'Sayli Gaikwa'"
      ]
     },
     "execution_count": 19,
     "metadata": {},
     "output_type": "execute_result"
    }
   ],
   "source": [
    "import textract\n",
    "\n",
    "fname = \"/Users/cosmos/Desktop/DP/DeepBlue/Testing/Non Parsed Resumes/Sayli Sunil Gaikwad_14625.pdf\"\n",
    "\n",
    "text = textract.process(fname)\n",
    "text = text.decode()\n",
    "\n",
    "ner(text,model_bert_ner,tokenizer_bert_ner)"
   ]
  },
  {
   "cell_type": "code",
   "execution_count": 13,
   "metadata": {},
   "outputs": [
    {
     "data": {
      "text/plain": [
       "'Positions Held:\\nSenior Test Engineer\\n\\nSayli Gaikwad\\nMastek ID#: 14625\\n\\nPROFESSIONAL SUMMARY\\n4.7 years of Expertise in: ● Manual Testing ● Requirements Gathering and Analysis ● Software\\nLife-Cycle Management ● Team Management\\n\\uf0fc Maintaining project roles, providing customer satisfaction, and ensuring quality of projects.\\n\\uf0fc Involved in Functional testing, Black box, Usability, Static ,Regression, Integration, Acceptance,\\nEnd-to-End and mobile Testing\\n\\uf0fc Good Knowledge of Selenium web driver framework and running automation scripts.\\n\\uf0fc Gained knowledge in waterfall model, V-Model and following Agile testing methodology that\\nresulted in reductions of cost and time.\\n\\uf0fc Clear understanding of SDLC, STLC and bug life cycle.\\n\\uf0fc ISTQB Foundation Level Certified.\\n\\uf0fc Hands on experience on Testing phases like Requirement Analysis, Query reporting, Test\\nscenario and test cases preparation, Test case Execution, Defect reporting and Tracking, Defect\\nRetesting, Report generation and test closure activities.\\n\\uf0fc Self-motivated, energetic and highly ethical in all work related assignments thus able to\\nimmediately contribute to corporate goals and objects\\n\\uf0fc Good written, communication, interpersonal skills, proven team player with an analytical\\n,problem solving ability and delivering solutions\\n\\nPROFESSIONAL ACHIEVEMENTS\\nAwards: \\uf0b7 Received PET Award by Mastek in CBI (Central Bureau of Investigation) Project\\n\\uf0b7 Received Best AIA Team award by Quality Kiosk on Annual Functional Event.\\n\\uf0b7 Completed Software Testing Course from SEED INFOTECH.\\nRecognition: \\uf0b7\\n\\nReceived “Client Appreciation Mail” from Product owner from AIA Malaysia project.\\n\\nCORE SKILL\\nFunctional:\\n\\nTest Case Development, Test Execution, Test Planning,\\nTest Analysis, Test Data Creation, Test Scenarios Design &\\nDevelop, Functional Testing\\n\\nDefect Tracking\\nTool:\\n\\nJIRA, Bugzilla, Redmine\\n\\nLanguages:\\n\\nC,C++,Core Java\\n\\nhttp://www.mastek.com\\n\\nPage 1\\n\\n\\x0cWeb Technologies:\\n\\nHTML, CSS\\n\\nOperating System:\\n\\nWindows 08/2000/XP/Win7/10\\n\\nDatabase\\ntechnologies:\\n\\nMS-SQL Server 2008/2010/2014, MS Access\\n\\nTesting Tools:\\n\\nLife Asia, Group Asia, Takaful, NBCFE, Selenium IDE,\\nSelenium webdriver2.0.QTP\\n\\nKEY ROLES AND RESPONSIBILITIES\\nSoftware Test Engineer:\\n\\uf0fc Involved in Manual Testing of Insurance domain, E-commerce web based applications and\\nSharePoint applications.\\n\\uf0fc Communicate with onsite team/client to understand the requirements.\\n\\uf0fc Finding out best possible solution by analyzing possible/available options.\\n\\uf0fc Preparing the test scenarios and test cases and modification as per BA’s comments.\\nCoordinating with development team.\\n\\uf0fc Involving in Test case Execution, Monitoring and tracking, test data creation, test result\\ndocumentation and reporting, logging defects and test summary creation\\n\\uf0fc Attend Triage call for Defect management and User stories & meeting. Test scenario\\nidentification, Test script design, Test data preparation and test case execution, defect\\nreporting, defect closure and follow-up activities.\\n\\uf0fc Product testing on SIT, UAT and Production environment.\\n\\uf0fc Good interpersonal skills and ability to learn new technologies and undertake challenges.\\n\\nPROFESSIONAL EXPERIENCE\\n\\n1) WBS-MLTD-PiramalEnt.SharepntMigrtn-TM-SPZ-OF\\nSenior Test Engineer\\n\\nMumbai\\nJan 2021 – Feb 2022\\n\\nProject Name: Vconnect Project\\nApplication: Web Application (Migration to SharePoint)\\nSkills Used: Testing perform on SharePoint Application, Manual Testing, Functional Testing,\\nIntegration Testing, Process Flow Understanding.\\n\\nRole and Responsibilities:\\n\\nhttp://www.mastek.com\\n\\nPage 2\\n\\n\\x0c\\uf0b7\\n\\uf0b7\\n\\uf0b7\\n\\uf0b7\\n\\uf0b7\\n\\uf0b7\\n\\uf0b7\\n\\nWorking as Senior Test Engineer in Piramal Project and handled complete testing part\\nindividually for all modules. Perform the testing on SharePoint for various modules.(Team size10)\\nUnderstanding the Requirements and Functional Specifications of the application by own\\nDesigned and executed functional test cases to the related various modules for Vconnect\\nProject like Web domain renewal, Product Encyclopedia, GatePass, Capital disposal, DLUPR,\\nTimesheet etc. Completed testing for total 10 applications.\\nDefect tracking and Reporting using JIRA and involved in the preparation of Test Reports.\\nUpload the test cases using Qmetry in JIRA. Creating user manual and giving the application\\ndemo to the user.\\nPerformed Sanity, smoke, Functional testing.\\nWorking as BA also in Vconnect Project for 2 modules.\\n\\n.\\n2) CBI client of Mastek Ltd (Central Bureau of Investigation)\\nSoftware Test Engineer\\n\\nMumbai\\nFeb 2020 – Aug 2020\\nDec 2020-Jan 2021\\n\\nProject Name: HRMS system (Human Resource Management System)\\nApplication: Web Application\\nSkills Used: Manual Testing, Functional Testing, Integration Testing, Process Flow\\nUnderstanding.\\n\\nRole and Responsibilities:\\n\\uf0b7\\n\\uf0b7\\n\\uf0b7\\n\\uf0b7\\n\\uf0b7\\n\\nAnalyze the customer requirements and product specifications.\\nTest scenario identification, Test case design, test data preparation.\\nTest execution, defect reporting, defect closure and follow-up.\\nPreparing Test Results and defect report.\\nRobust testing of various HRMS Modules\\n\\n3) AIA Malaysia client of Quality Kiosk Technologies Pvt. Ltd\\nSenior Test Engineer\\n\\nMumbai\\nJune 2019 – Jan 2020\\n\\nProject Name: Horizon\\nApplication: Life Asia\\nDescription- The objective of this document is to define the functional requirements of\\n\\nbackend applications on the Sustainability Tools for Investment-Linked Policies. Sustainability\\non Investment-Linked (IL) Policies & Takaful Certificates.\\nLife Asia is basically a Core System used to manage the Contract i.e. Life Policy in terms of New\\nbusiness and Contract servicing. This application is majorly used in most of the insurance\\ncompanies in India. The Application is Developed & Managed by DCX Technology.\\n\\nSkills Used: Manual Testing, Functional Testing, Process Flow Understanding.\\nRole and Responsibilities:\\n\\uf0b7\\n\\uf0b7\\n\\uf0b7\\n\\uf0b7\\n\\uf0b7\\n\\uf0b7\\n\\uf0b7\\n\\nGoing through the documents and user requirements.\\nPreparing the test scenarios and test cases.\\nPrepare DSR and Test Closure Report.\\nCommunicating with Client for understanding Business Requirement.\\nAttend Triage call for Defect management and User stories & meeting.\\nTest scenario identification, Test script design, Test data preparation and test case execution,\\ndetect reporting, defect closure and follow-up activities.\\nDefect management using Bugzilla\\n\\nhttp://www.mastek.com\\n\\nPage 3\\n\\n\\x0c4) Tata AIA client of Quality Kiosk Technologies Pvt. Ltd\\nSenior Test Engineer\\n\\nMumbai\\nMay 2019 – June 2019\\n\\nProject Name: Tata AIA\\nApplication: Mobile Application, New Business Front End System, Life Asia\\nDescription- TATA AIA includes different applications Good Connect (Mobile Application),\\nOffline SIS (Sales Illustration System), CSO (Customer Service Office),CMS (Collection\\nManagement System),NBFE(New Business Front End System) integrated with OLAS (Core\\nApplication).This applications is majorly used in most of the insurance companies.\\n\\nRole and Responsibilities:\\n\\uf0b7\\n\\uf0b7\\n\\uf0b7\\n\\nGoing through the documents and user requirements.\\nCompleted the POC for TATA AIA.\\nDesign and develop test cases based on software requirements and technical understanding of\\nproduct architecture.\\n\\n5) AIA Malaysia client of Quality Kiosk Technologies Pvt. Ltd\\nSoftware Test Engineer\\n\\nMumbai\\nMarch 2019 – May 2019\\n\\nProject Name: Symphony\\nApplication: Group Asia (G400), Web Application\\nDescription- AIA Symphony is web portal application integrated with G400 (Group Asia). AIA\\nSymphony portal is basically used by AIA corporate agent to add member and dependent,\\nterminate member and dependent, search member, transaction history and claim purpose.\\n\\nSkills Used: Manual Testing, Functional Testing, Integration Testing Regression Testing\\nRole and Responsibilities:\\n\\uf0b7\\n\\uf0b7\\n\\uf0b7\\n\\uf0b7\\n\\uf0b7\\n\\nGoing through the documents and user requirements.\\nPreparing the test scenarios and test cases.\\nDesign and develop test cases based on software requirements and technical understanding of\\nproduct architecture.\\nPrepare DSR and Test Closure Report.\\nDefect management using Bugzilla.\\n\\n6) AIA Malaysia client of Quality Kiosk Technologies Pvt. Ltd\\nSoftware Test Engineer\\n\\nMumbai\\nMarch 2018 – March 2019\\n\\nProject Name: Life Insurance (Product Testing)\\nApplication: Life Asia\\nSkills Used: Manual Testing, Functional Testing, Integration Testing, Process Flow\\nUnderstanding.\\n\\uf0b7\\n\\uf0b7\\n\\uf0b7\\n\\uf0b7\\n\\nCommunicating with Client for understanding Business Requirement and implementing\\ncustomer requirements.\\nPrepare DSR and Test Closure Report.\\nAttend Triage call for Defect management and User stories &meeting.\\nTest Scenario identification, Test Script design, Test data preparation and test case execution,\\ndefect reporting, defect closure and follow-up activities.\\n\\nhttp://www.mastek.com\\n\\nPage 4\\n\\n\\x0c\\uf0b7\\n\\uf0b7\\n\\uf0b7\\n\\uf0b7\\n\\nPreparing Test Results and defect report.\\nTesting Front end application NBCFE, MCS .\\nTested different product on LA such as ULIP, Traditional, and Conventional.\\nProduct testing on UAT environment.\\n\\n6) INDIA FIRST LIFE INSURANCE PVT LTD client of Quality Kiosk Technologies Pvt. Ltd\\nMumbai\\nTrainee Test Engineer\\nJuly 2017 – March 2018\\nProject Name: Group Insurance, RAPID\\nApplication: Group Asia, Mobile & Web Application\\nDescription-Rapid is basically available as both web application & Mobile application. It is the\\nCustomer based application were the customer can get the Life Insurance Policy according to\\nhis or her Requirement. This application is basically a Lead Generator in terms of Business for\\nthe Company.\\n\\nSkills Used: Manual Testing, Mobile Testing, Compatibility& usability testing\\n\\uf0b7\\n\\uf0b7\\n\\uf0b7\\n\\uf0b7\\n\\uf0b7\\n\\nAnalyze the customer requirements and product specifications.\\nTest scenario identification, Test case design, test data preparation.\\nTest execution, defect reporting, defect closure and follow-up.\\nPreparing Test Results and defect report.\\nTesting on different IOS/Android Mobile.\\n\\nCREDENTIALS, APPRECIATIONS & ACADEMICS\\n\\nhttp://www.mastek.com\\n\\nYear\\n\\nCourse Name\\n\\n2018\\n\\nISTQB- Certified Tester Foundation level\\n\\n2016\\n\\nProfessional Software Testing Specialist\\n\\n2015\\n\\nBE (Computer Science & Engineering),\\nKARMAVEER BHAURAO COLLEGE OF\\nENGINEERING\\n\\nPage 5\\n\\n\\x0cSOCIAL CONNECT & PERSONAL INFORMATION\\nSOCIAL\\nSITES\\n\\nURL\\n\\nSkype Id,\\nTeams id\\n\\nSayali.gaikwad@mastek.com\\n\\nYammer\\n\\nhttps://ind.delve.office.com/?u=c8961e7b-afae-4291-872f49505fb976ec&v=work\\n\\nhttp://www.mastek.com\\n\\nPage 6\\n\\n\\x0c'"
      ]
     },
     "execution_count": 13,
     "metadata": {},
     "output_type": "execute_result"
    }
   ],
   "source": [
    "text"
   ]
  },
  {
   "cell_type": "code",
   "execution_count": null,
   "metadata": {},
   "outputs": [],
   "source": []
  }
 ],
 "metadata": {
  "interpreter": {
   "hash": "4bd624a0593993fe43ac4046b27b898fb2ef75c21c08f81e89e64ea0f51df676"
  },
  "kernelspec": {
   "display_name": "Python 3.9.10 ('tensorflow')",
   "language": "python",
   "name": "python3"
  },
  "language_info": {
   "codemirror_mode": {
    "name": "ipython",
    "version": 3
   },
   "file_extension": ".py",
   "mimetype": "text/x-python",
   "name": "python",
   "nbconvert_exporter": "python",
   "pygments_lexer": "ipython3",
   "version": "3.9.10"
  },
  "orig_nbformat": 4
 },
 "nbformat": 4,
 "nbformat_minor": 2
}
