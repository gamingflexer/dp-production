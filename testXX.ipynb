{
 "cells": [
  {
   "cell_type": "code",
   "execution_count": 1,
   "metadata": {},
   "outputs": [
    {
     "name": "stderr",
     "output_type": "stream",
     "text": [
      "Using TensorFlow backend.\n"
     ]
    },
    {
     "name": "stdout",
     "output_type": "stream",
     "text": [
      "Init Plugin\n",
      "Init Graph Optimizer\n",
      "Init Kernel\n"
     ]
    }
   ],
   "source": [
    "from parser1 import mainML\n",
    "fname = \"/Users/cosmos/Desktop/DP/DeepBlue/Testing/Non Parsed Resumes/Sayli Sunil Gaikwad_14625.pdf\"\n",
    "\n",
    "p1 = mainML.get_parsed(fname)"
   ]
  },
  {
   "cell_type": "code",
   "execution_count": 1,
   "metadata": {},
   "outputs": [
    {
     "name": "stderr",
     "output_type": "stream",
     "text": [
      "/opt/homebrew/Caskroom/miniforge/base/envs/tensorflow/lib/python3.9/site-packages/spacy/util.py:275: UserWarning: [W031] Model 'en_training' (0.0.0) requires spaCy v2.2 and is incompatible with the current spaCy version (2.3.5). This may lead to unexpected results or runtime errors. To resolve this, download a newer compatible model or retrain your custom model with the current spaCy version. For more details and available updates, run: python -m spacy validate\n",
      "  warnings.warn(warn_msg)\n",
      "Using TensorFlow backend.\n"
     ]
    },
    {
     "name": "stdout",
     "output_type": "stream",
     "text": [
      "Init Plugin\n",
      "Init Graph Optimizer\n",
      "Init Kernel\n"
     ]
    }
   ],
   "source": [
    "from parser2 import resumeparse\n",
    "from parser1 import mainML\n",
    "\n",
    "fname = \"/Users/cosmos/Desktop/DP/DeepBlue/Testing/Non Parsed Resumes/Sayli Sunil Gaikwad_14625.pdf\"\n",
    "\n",
    "def parser(fname):\n",
    "    to_delete = ['email', 'phone', 'name', 'total_exp','designition', 'skills','FileName','File Language']\n",
    "    p1 = mainML.get_parsed(fname)\n",
    "    p2 = resumeparse.read_file(fname)\n",
    "    p1.update(p2)\n",
    "    for i in to_delete:\n",
    "        try:\n",
    "            del p1[i]\n",
    "        except:\n",
    "            continue\n",
    "    return p1\n",
    "\n",
    "final = parser(fname=fname)\n",
    "        "
   ]
  },
  {
   "cell_type": "code",
   "execution_count": 54,
   "metadata": {},
   "outputs": [
    {
     "data": {
      "text/plain": [
       "['Process Flow Understanding ',\n",
       " 'Analyze the customer requirements',\n",
       " 'Compatibility usability testing',\n",
       " 'Functional Testing ',\n",
       " 'Preparing Test Results',\n",
       " 'Mobile Testing ']"
      ]
     },
     "execution_count": 54,
     "metadata": {},
     "output_type": "execute_result"
    }
   ],
   "source": [
    "final['Skills']"
   ]
  },
  {
   "cell_type": "code",
   "execution_count": 33,
   "metadata": {},
   "outputs": [
    {
     "data": {
      "text/plain": [
       "dict_keys(['Personal Details', 'Current Job', 'Total Experience(years)', 'Experience', 'Education', 'Skills', 'Reference', 'Awards', 'university', 'degree', 'Companies worked at'])"
      ]
     },
     "execution_count": 33,
     "metadata": {},
     "output_type": "execute_result"
    }
   ],
   "source": [
    "final.keys() \n",
    "#PD - dict - ['Name', 'Phone Number', 'Email Id', 'Gender', 'Date of birth', 'Location', 'Pincode']\n",
    "#expirence - dict ['Designation', 'Company', 'Experience Year', 'Projects']\n",
    "#education - ['Degree', 'College', 'Graduation Year', 'Trainings/Courses', 'Publications']"
   ]
  },
  {
   "cell_type": "code",
   "execution_count": 73,
   "metadata": {},
   "outputs": [],
   "source": []
  },
  {
   "cell_type": "code",
   "execution_count": 89,
   "metadata": {},
   "outputs": [],
   "source": [
    "import re\n",
    "\n",
    "\n",
    "def dict_clean(dict):\n",
    "    final_keys_1 = [ 'Current Job', 'Total Experience(years)', 'Awards'] #str\n",
    "    final_keys_2 =['Personal Details','Experience','Education'] #dict\n",
    "    final_keys_0 = [\"Skills\",'Reference','university','degree','Companies worked at', 'degree'] #list\n",
    "\n",
    "    personal_keys = ['Name', 'Phone Number', 'Email Id', 'Gender', 'Date of birth', 'Location', 'Pincode']\n",
    "    exp_keys = ['Designation', 'Company', 'Experience Year', 'Projects']\n",
    "    edu_keys = ['Degree', 'College', 'Graduation Year', 'Trainings/Courses', 'Publications']\n",
    "    \n",
    "    #clean function \n",
    "    for i in final_keys_1: #str\n",
    "        k = final[i]\n",
    "        k = re.sub(\"\\n\",\" \",k)\n",
    "        k = re.sub(\"/n\",\" \",k)\n",
    "        final[i] = k\n",
    "        \n",
    "        \n",
    "    for i in final_keys_0: #list\n",
    "        k = final[i]\n",
    "        t = 0\n",
    "        for m in k:\n",
    "            m = re.sub(\"\\n\",\" \",m)\n",
    "            m = re.sub(\"/n\",\" \",m)\n",
    "            final[i][t] = m\n",
    "            t = t+1\n",
    "            \n",
    "    for i in final_keys_2: #dict\n",
    "        k = final[i]\n",
    "        if i == 'Personal Details':\n",
    "            for m in personal_keys:\n",
    "                temp = k[m]\n",
    "                #print(temp)\n",
    "                try:\n",
    "                    temp = re.sub(\"\\n\",\" \",temp)\n",
    "                    temp = re.sub(\"/n\",\" \",temp)\n",
    "                except:\n",
    "                    pass\n",
    "                final['Personal Details'][m] = temp\n",
    "                \n",
    "        if i == 'Experience':\n",
    "            for m in exp_keys:\n",
    "                temp = k[m]\n",
    "                #print(temp)\n",
    "                try:\n",
    "                    temp = re.sub(\"\\n\",\" \",temp)\n",
    "                    temp = re.sub(\"/n\",\" \",temp)\n",
    "                except:\n",
    "                    pass\n",
    "                final['Experience'][m] = temp\n",
    "                \n",
    "        if i == 'Education':\n",
    "            for m in edu_keys:\n",
    "                temp = k[m]\n",
    "                #print(temp)\n",
    "                try:\n",
    "                    temp = re.sub(\"\\n\",\" \",temp)\n",
    "                    temp = re.sub(\"/n\",\" \",temp)\n",
    "                except:\n",
    "                    pass\n",
    "                final['Education'][m] = temp\n",
    "    return dict\n",
    "\n",
    "final = dict_clean(final)"
   ]
  },
  {
   "cell_type": "code",
   "execution_count": 88,
   "metadata": {},
   "outputs": [
    {
     "data": {
      "text/plain": [
       "{'Personal Details': {'Name': 'Quality Kiosk',\n",
       "  'Phone Number': [],\n",
       "  'Email Id': 'Sayali.gaikwad@mastek.com',\n",
       "  'Gender': 'not mentioned',\n",
       "  'Date of birth': '',\n",
       "  'Location': 'Null',\n",
       "  'Pincode': ' '},\n",
       " 'Current Job': 'Senior Test Engineer',\n",
       " 'Total Experience(years)': '',\n",
       " 'Experience': {'Designation': ['Senior Test Engineer',\n",
       "   'Software Test Engineer',\n",
       "   'Trainee Test Engineer'],\n",
       "  'Company': [],\n",
       "  'Experience Year': ['Jan 2021 Feb 2022',\n",
       "   'June 2019 Jan 2020',\n",
       "   'May 2019 June 2019',\n",
       "   'March 2019 May 2019',\n",
       "   'March 2018 March 2019',\n",
       "   'July 2017 March 2018'],\n",
       "  'Projects': 'Project Name Horizon Application Life Asia Description The objective of this document is to define the functional requirements of backend applications on the Sustainability Tools for Investment Linked Policies Sustainability on Investment Linked IL Policies Takaful Certificates  Life Asia is basically a Core System used to manage the Contract i e business and Contract servicing This application is majorly used in most of the insurance companies in India The Application is Developed Managed by DCX Technology Project Name Symphony Application Group Asia G400 Web Application Description AIA Symphony is web portal application integrated with G400 Group Asia AIA Symphony portal is basically used by AIA corporate agent to add member and dependent  terminate member and dependent search member transaction history and claim purpose  '},\n",
       " 'Education': {'Degree': [],\n",
       "  'College': [],\n",
       "  'Graduation Year': [],\n",
       "  'Trainings/Courses': '',\n",
       "  'Publications': ''},\n",
       " 'Skills': ['Process Flow Understanding ',\n",
       "  'Analyze the customer requirements',\n",
       "  'Compatibility usability testing',\n",
       "  'Functional Testing ',\n",
       "  'Preparing Test Results',\n",
       "  'Mobile Testing '],\n",
       " 'Reference': [],\n",
       " 'Awards': 'PROFESSIONAL ACHIEVEMENTS Awards Received PET Award by Mastek in CBI Central Bureau of Investigation Project  Received Best AIA Team award by Quality Kiosk on Annual Functional Event   Completed Software Testing Course from SEED INFOTECH  Recognition  Received Client Appreciation Mail from Product owner from AIA Malaysia project  CORE SKILL Test Case Development Test Execution Test Planning  Test Analysis Test Data Creation Test Scenarios Design  Develop Functional Testing Defect Tracking JIRA Bugzilla Redmine ',\n",
       " 'university': [],\n",
       " 'degree': ['BE (Computer Science & Engineering'],\n",
       " 'Companies worked at': []}"
      ]
     },
     "execution_count": 88,
     "metadata": {},
     "output_type": "execute_result"
    }
   ],
   "source": [
    "final"
   ]
  },
  {
   "cell_type": "code",
   "execution_count": null,
   "metadata": {},
   "outputs": [],
   "source": []
  }
 ],
 "metadata": {
  "interpreter": {
   "hash": "4bd624a0593993fe43ac4046b27b898fb2ef75c21c08f81e89e64ea0f51df676"
  },
  "kernelspec": {
   "display_name": "Python 3.9 (tensorflow)",
   "language": "python",
   "name": "tensorflow"
  },
  "language_info": {
   "codemirror_mode": {
    "name": "ipython",
    "version": 3
   },
   "file_extension": ".py",
   "mimetype": "text/x-python",
   "name": "python",
   "nbconvert_exporter": "python",
   "pygments_lexer": "ipython3",
   "version": "3.9.10"
  },
  "orig_nbformat": 4
 },
 "nbformat": 4,
 "nbformat_minor": 2
}
