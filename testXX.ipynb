{
 "cells": [
  {
   "cell_type": "code",
   "execution_count": 1,
   "metadata": {},
   "outputs": [
    {
     "name": "stderr",
     "output_type": "stream",
     "text": [
      "/opt/homebrew/Caskroom/miniforge/base/envs/tensorflow/lib/python3.9/site-packages/spacy/util.py:275: UserWarning: [W031] Model 'en_training' (0.0.0) requires spaCy v2.2 and is incompatible with the current spaCy version (2.3.5). This may lead to unexpected results or runtime errors. To resolve this, download a newer compatible model or retrain your custom model with the current spaCy version. For more details and available updates, run: python -m spacy validate\n",
      "  warnings.warn(warn_msg)\n",
      "Using TensorFlow backend.\n"
     ]
    },
    {
     "name": "stdout",
     "output_type": "stream",
     "text": [
      "Init Plugin\n",
      "Init Graph Optimizer\n",
      "Init Kernel\n"
     ]
    }
   ],
   "source": [
    "from parser2 import resumeparse\n",
    "from parser1 import mainML\n",
    "\n",
    "fname = \"/Users/cosmos/Desktop/DP/DeepBlue/Testing/Non Parsed Resumes/Sayli Sunil Gaikwad_14625.pdf\"\n",
    "\n",
    "def parser(fname):\n",
    "    p4 =[]\n",
    "    to_delete = ['email', 'phone', 'name', 'total_exp','designition','FileName','File Language']\n",
    "    p1 = mainML.get_parsed(fname)\n",
    "    p2 = resumeparse.read_file(fname)\n",
    "    p1.update(p2)\n",
    "    for i in to_delete:\n",
    "        try:\n",
    "            del p1[i]\n",
    "        except:\n",
    "            continue\n",
    "    p4 = p1['Skills'] + p1['skills']\n",
    "    p1.pop('Skills')\n",
    "    p1.pop('skills')\n",
    "    p1.update({\"Skills\":p4})\n",
    "    return p1\n",
    "\n",
    "\n",
    "final = parser(fname=fname)\n",
    "        "
   ]
  },
  {
   "cell_type": "code",
   "execution_count": 12,
   "metadata": {},
   "outputs": [
    {
     "ename": "KeyError",
     "evalue": "'skills'",
     "output_type": "error",
     "traceback": [
      "\u001b[0;31m---------------------------------------------------------------------------\u001b[0m",
      "\u001b[0;31mKeyError\u001b[0m                                  Traceback (most recent call last)",
      "\u001b[0;32m/var/folders/2h/lw5rv90j0ln7v084d1vkrcg80000gn/T/ipykernel_88641/3344672035.py\u001b[0m in \u001b[0;36m<cell line: 1>\u001b[0;34m()\u001b[0m\n\u001b[0;32m----> 1\u001b[0;31m \u001b[0mfinal\u001b[0m\u001b[0;34m[\u001b[0m\u001b[0;34m'skills'\u001b[0m\u001b[0;34m]\u001b[0m\u001b[0;34m\u001b[0m\u001b[0;34m\u001b[0m\u001b[0m\n\u001b[0m",
      "\u001b[0;31mKeyError\u001b[0m: 'skills'"
     ]
    }
   ],
   "source": [
    "final['skills']"
   ]
  },
  {
   "cell_type": "code",
   "execution_count": 33,
   "metadata": {},
   "outputs": [
    {
     "data": {
      "text/plain": [
       "dict_keys(['Personal Details', 'Current Job', 'Total Experience(years)', 'Experience', 'Education', 'Skills', 'Reference', 'Awards', 'university', 'degree', 'Companies worked at'])"
      ]
     },
     "execution_count": 33,
     "metadata": {},
     "output_type": "execute_result"
    }
   ],
   "source": [
    "final.keys() \n",
    "#PD - dict - ['Name', 'Phone Number', 'Email Id', 'Gender', 'Date of birth', 'Location', 'Pincode']\n",
    "#expirence - dict ['Designation', 'Company', 'Experience Year', 'Projects']\n",
    "#education - ['Degree', 'College', 'Graduation Year', 'Trainings/Courses', 'Publications']"
   ]
  },
  {
   "cell_type": "code",
   "execution_count": 89,
   "metadata": {},
   "outputs": [],
   "source": [
    "import re\n",
    "\n",
    "\n",
    "def dict_clean(dict):\n",
    "    final_keys_1 = [ 'Current Job', 'Total Experience(years)', 'Awards'] #str\n",
    "    final_keys_2 =['Personal Details','Experience','Education'] #dict\n",
    "    final_keys_0 = [\"Skills\",'Reference','university','degree','Companies worked at', 'degree'] #list\n",
    "\n",
    "    personal_keys = ['Name', 'Phone Number', 'Email Id', 'Gender', 'Date of birth', 'Location', 'Pincode']\n",
    "    exp_keys = ['Designation', 'Company', 'Experience Year', 'Projects']\n",
    "    edu_keys = ['Degree', 'College', 'Graduation Year', 'Trainings/Courses', 'Publications']\n",
    "    \n",
    "    #clean function \n",
    "    for i in final_keys_1: #str\n",
    "        k = final[i]\n",
    "        k = re.sub(\"\\n\",\" \",k)\n",
    "        k = re.sub(\"/n\",\" \",k)\n",
    "        final[i] = k\n",
    "        \n",
    "        \n",
    "    for i in final_keys_0: #list\n",
    "        k = final[i]\n",
    "        t = 0\n",
    "        for m in k:\n",
    "            m = re.sub(\"\\n\",\" \",m)\n",
    "            m = re.sub(\"/n\",\" \",m)\n",
    "            final[i][t] = m\n",
    "            t = t+1\n",
    "            \n",
    "    for i in final_keys_2: #dict\n",
    "        k = final[i]\n",
    "        if i == 'Personal Details':\n",
    "            for m in personal_keys:\n",
    "                temp = k[m]\n",
    "                #print(temp)\n",
    "                try:\n",
    "                    temp = re.sub(\"\\n\",\" \",temp)\n",
    "                    temp = re.sub(\"/n\",\" \",temp)\n",
    "                except:\n",
    "                    pass\n",
    "                final['Personal Details'][m] = temp\n",
    "                \n",
    "        if i == 'Experience':\n",
    "            for m in exp_keys:\n",
    "                temp = k[m]\n",
    "                #print(temp)\n",
    "                try:\n",
    "                    temp = re.sub(\"\\n\",\" \",temp)\n",
    "                    temp = re.sub(\"/n\",\" \",temp)\n",
    "                except:\n",
    "                    pass\n",
    "                final['Experience'][m] = temp\n",
    "                \n",
    "        if i == 'Education':\n",
    "            for m in edu_keys:\n",
    "                temp = k[m]\n",
    "                #print(temp)\n",
    "                try:\n",
    "                    temp = re.sub(\"\\n\",\" \",temp)\n",
    "                    temp = re.sub(\"/n\",\" \",temp)\n",
    "                except:\n",
    "                    pass\n",
    "                final['Education'][m] = temp\n",
    "    return dict\n",
    "\n",
    "final = dict_clean(final)"
   ]
  },
  {
   "cell_type": "code",
   "execution_count": 3,
   "metadata": {},
   "outputs": [
    {
     "name": "stdout",
     "output_type": "stream",
     "text": [
      "found\n"
     ]
    }
   ],
   "source": [
    "d1 = {\"Highlights\":['gamingflexer','hi.github.com','hi.321']}\n",
    "\n",
    "from preprocessing import linkdien_clean, summary_clean\n",
    "\n",
    "d2 = linkdien_clean(d1)"
   ]
  },
  {
   "cell_type": "code",
   "execution_count": 4,
   "metadata": {},
   "outputs": [
    {
     "data": {
      "text/plain": [
       "{'Highlights': ['gamingflexer', 'hi.github.com', 'hi']}"
      ]
     },
     "execution_count": 4,
     "metadata": {},
     "output_type": "execute_result"
    }
   ],
   "source": [
    "d2"
   ]
  },
  {
   "cell_type": "code",
   "execution_count": null,
   "metadata": {},
   "outputs": [],
   "source": [
    "learn.load(\"/content/drive/MyDrive/Colab Notebooks/Models/Extractive_BART\")\n",
    "summary_extractive()"
   ]
  }
 ],
 "metadata": {
  "interpreter": {
   "hash": "4bd624a0593993fe43ac4046b27b898fb2ef75c21c08f81e89e64ea0f51df676"
  },
  "kernelspec": {
   "display_name": "Python 3.9 (tensorflow)",
   "language": "python",
   "name": "tensorflow"
  },
  "language_info": {
   "codemirror_mode": {
    "name": "ipython",
    "version": 3
   },
   "file_extension": ".py",
   "mimetype": "text/x-python",
   "name": "python",
   "nbconvert_exporter": "python",
   "pygments_lexer": "ipython3",
   "version": "3.9.10"
  },
  "orig_nbformat": 4
 },
 "nbformat": 4,
 "nbformat_minor": 2
}
